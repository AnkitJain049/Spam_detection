{
 "cells": [
  {
   "cell_type": "code",
   "execution_count": null,
   "id": "e7691ae2-9344-4824-8e9f-4ed0483365b9",
   "metadata": {
    "tags": []
   },
   "outputs": [],
   "source": [
    "import train_test_split"
   ]
  },
  {
   "cell_type": "code",
   "execution_count": null,
   "id": "a1ae86bb-d469-483b-bd42-38f14b084d80",
   "metadata": {},
   "outputs": [],
   "source": []
  }
 ],
 "metadata": {
  "kernelspec": {
   "display_name": "Python 3 (ipykernel)",
   "language": "python",
   "name": "python3"
  },
  "language_info": {
   "name": ""
  }
 },
 "nbformat": 4,
 "nbformat_minor": 5
}
